{
 "cells": [
  {
   "cell_type": "markdown",
   "id": "ff4c55fd",
   "metadata": {},
   "source": [
    "# Python Introduction - 09/05/22"
   ]
  },
  {
   "cell_type": "markdown",
   "id": "856e3aca",
   "metadata": {},
   "source": [
    "Prep: Create a virtual environment in Anaconda (Prompt or terminal, depending on operating system), using `conda create --name environment_name` (to create an environment with a specific Python version, run `conda create --name environment_name python=3.4`). You can see a list of all your environment with `conda info --envs`. Activate your environment using `conda activate environment_name`. To install packages into your environment, run `conda install numpy pandas matplotlib seaborn scikit-learn spyder notebook` and any other packages you want to install. You can also do this directly when creating the environment and specify version of packages you want to work with, e.g. `conda create -n environment_name scipy=0.15.0` (`-n`is just the short version of `--name`). `conda list -n environment_name` gives you a list of all packages installed in the current environment. You can deactivate your environment with `conda deactivate`.\\\n",
    "Hint: sometimes you will have to install packages with `pip` instead of `conda`. It might be useful to install `pip` into your base by running `conda install pip` (for Windows users: you might have to open your Anaconda Prompt as an administrator to be able to install to base but please look this up first to see what it means to run prompt as an administrator).\\\n",
    "For more infos on Anaconda see https://docs.conda.io/projects/conda/en/4.6.0/_downloads/52a95608c49671267e40c689e0bc00ca/conda-cheatsheet.pdf."
   ]
  },
  {
   "cell_type": "markdown",
   "id": "33257f49",
   "metadata": {},
   "source": [
    "To open a notebook, either launch Jupyter Notebook from your environment directly in Anaconda or navigate into your environment (`conda activate environment_name`) and run `jupyter notebook` in the Prompt/terminal."
   ]
  },
  {
   "cell_type": "markdown",
   "id": "790d89b6",
   "metadata": {},
   "source": [
    "### 1. Basics: Lists, sets, tuples, dictionaries"
   ]
  },
  {
   "cell_type": "markdown",
   "id": "a29ef265",
   "metadata": {},
   "source": [
    "#### 1.1 Lists: can contain any type of object; mutable (can be changed)"
   ]
  },
  {
   "cell_type": "code",
   "execution_count": null,
   "id": "33226f7d",
   "metadata": {},
   "outputs": [],
   "source": [
    "list1 = [1,2,3]\n",
    "list1"
   ]
  },
  {
   "cell_type": "code",
   "execution_count": null,
   "id": "474a6063",
   "metadata": {},
   "outputs": [],
   "source": [
    "list2 = [1.3, 6.8, \"house\", [1, 6, \"street\"]]\n",
    "list2[1] #Python starts at 0"
   ]
  },
  {
   "cell_type": "code",
   "execution_count": null,
   "id": "fc263e8d",
   "metadata": {},
   "outputs": [],
   "source": [
    "list2[3][0] #access list in list"
   ]
  },
  {
   "cell_type": "code",
   "execution_count": null,
   "id": "adc484e4",
   "metadata": {},
   "outputs": [],
   "source": [
    "list2[-3] = \"street\" #mutable: list can be changed after creation\n",
    "list2"
   ]
  },
  {
   "cell_type": "code",
   "execution_count": null,
   "id": "5e3de943",
   "metadata": {},
   "outputs": [],
   "source": [
    "list3 = list([1,2,4]) #can also be created with list()\n",
    "list3"
   ]
  },
  {
   "cell_type": "markdown",
   "id": "b6cf102d",
   "metadata": {},
   "source": [
    "#### 1.2 Sets: mutable, no order  "
   ]
  },
  {
   "cell_type": "code",
   "execution_count": null,
   "id": "7d5c6730",
   "metadata": {},
   "outputs": [],
   "source": [
    "set1 = {\"cat\", 1, \"dog\"}\n",
    "set1"
   ]
  },
  {
   "cell_type": "code",
   "execution_count": null,
   "id": "dab73dad",
   "metadata": {},
   "outputs": [],
   "source": [
    "#can't change by indexing because there is no order. Can be changed by adding and updating\n",
    "set1.add(2)\n",
    "set1"
   ]
  },
  {
   "cell_type": "code",
   "execution_count": null,
   "id": "0ea21751",
   "metadata": {},
   "outputs": [],
   "source": [
    "set1.update([\"fish\", 3])\n",
    "set1"
   ]
  },
  {
   "cell_type": "markdown",
   "id": "142bc19b",
   "metadata": {},
   "source": [
    "#### 1.3 Tuples: immutable (can't be changed after creation; faster to work with than lists)"
   ]
  },
  {
   "cell_type": "code",
   "execution_count": null,
   "id": "9a3b78ac",
   "metadata": {},
   "outputs": [],
   "source": [
    "pets = \"cat\", \"dog\", \"fish\", \"mouse\"\n",
    "pets2 = (\"cat\", \"dog\", \"fish\", \"mouse\")\n",
    "pets"
   ]
  },
  {
   "cell_type": "code",
   "execution_count": null,
   "id": "e1b4e471",
   "metadata": {},
   "outputs": [],
   "source": [
    "tuple1 = (\"cat\", 2, 4)\n",
    "#tuple1[0] = 3 #gives error because tuple is immutable"
   ]
  },
  {
   "cell_type": "code",
   "execution_count": null,
   "id": "05209892",
   "metadata": {},
   "outputs": [],
   "source": [
    "tuple2 = (\"cats\") * 3\n",
    "tuple2"
   ]
  },
  {
   "cell_type": "code",
   "execution_count": null,
   "id": "873125e7",
   "metadata": {},
   "outputs": [],
   "source": [
    "tuple2 = (\"cats\", ) * 3\n",
    "tuple2"
   ]
  },
  {
   "cell_type": "code",
   "execution_count": null,
   "id": "5e465383",
   "metadata": {},
   "outputs": [],
   "source": [
    "#indexing works because there's an order\n",
    "pets[1:] #position 1 to end\n",
    "#pets[:] #everything"
   ]
  },
  {
   "cell_type": "markdown",
   "id": "f0e0ca28",
   "metadata": {},
   "source": [
    "#### 1.4 Dictionaries: key-value pairs"
   ]
  },
  {
   "cell_type": "code",
   "execution_count": null,
   "id": "faa808f8",
   "metadata": {},
   "outputs": [],
   "source": [
    "dict1 = {1: 'cat', 2: 'dog'}\n",
    "dict1[1] #call key 1"
   ]
  },
  {
   "cell_type": "code",
   "execution_count": null,
   "id": "afcc8fba",
   "metadata": {},
   "outputs": [],
   "source": [
    "dict2 = {'name': 'John', 1: [2, 4, 3]} #possible to have lists or strings as a value\n",
    "dict2['name']"
   ]
  },
  {
   "cell_type": "code",
   "execution_count": null,
   "id": "4a138b94",
   "metadata": {},
   "outputs": [],
   "source": [
    "dict2[3] = 'new_value' #mutable\n",
    "dict2"
   ]
  },
  {
   "cell_type": "code",
   "execution_count": null,
   "id": "1d749802",
   "metadata": {},
   "outputs": [],
   "source": [
    "dict3 = dict({1:'apple', 2:'ball'}) #can also create dictionary with dict()\n",
    "dict3[1]"
   ]
  },
  {
   "cell_type": "markdown",
   "id": "ea1a0709",
   "metadata": {},
   "source": [
    "### 2. Basics: Functions, loops, if statements"
   ]
  },
  {
   "cell_type": "markdown",
   "id": "362e5e65",
   "metadata": {},
   "source": [
    "#### 2.1 Loops"
   ]
  },
  {
   "cell_type": "code",
   "execution_count": null,
   "id": "9b48c709",
   "metadata": {},
   "outputs": [],
   "source": [
    "for i in range(1, 10):\n",
    "    a = i*2\n",
    "    print(a)"
   ]
  },
  {
   "cell_type": "markdown",
   "id": "83a4fb9a",
   "metadata": {},
   "source": [
    "#### 2.2 Functions"
   ]
  },
  {
   "cell_type": "code",
   "execution_count": null,
   "id": "7edf85b3",
   "metadata": {},
   "outputs": [],
   "source": [
    "def first_function(a):\n",
    "    b = a + 1\n",
    "    c = a + b\n",
    "    d = c/a\n",
    "    \n",
    "    return(b,c,d) #you can return multiple outputs in Python"
   ]
  },
  {
   "cell_type": "code",
   "execution_count": null,
   "id": "a162204b",
   "metadata": {},
   "outputs": [],
   "source": [
    "b, c, d = first_function(a = 3)\n",
    "print(b, c, d)"
   ]
  },
  {
   "cell_type": "code",
   "execution_count": null,
   "id": "ed20b183",
   "metadata": {},
   "outputs": [],
   "source": [
    "b = first_function(a = 3)[0] #only get first returned output\n",
    "print(b)"
   ]
  },
  {
   "cell_type": "markdown",
   "id": "2617ee3b",
   "metadata": {},
   "source": [
    "#### 2.3 If/elif/else statements"
   ]
  },
  {
   "cell_type": "code",
   "execution_count": null,
   "id": "761152d1",
   "metadata": {},
   "outputs": [],
   "source": [
    "a = 12\n",
    "b = 10\n",
    "\n",
    "if (a > b):\n",
    "    print(\"a is greater than b\")\n",
    "elif (a == b):\n",
    "    print(\"a equals b\")\n",
    "else:\n",
    "    print(\"b is greater than a\")"
   ]
  },
  {
   "cell_type": "markdown",
   "id": "1c8560a9",
   "metadata": {},
   "source": [
    "### 3. Important packages"
   ]
  },
  {
   "cell_type": "markdown",
   "id": "049469e7",
   "metadata": {},
   "source": [
    "We will focus on:\n",
    "- **pandas:** reading/writing data from/to different file formats; for data exploration/cleaning/manipulation\n",
    "- **NumPy:** works with (multidimensional) arrays (faster than lists); for numerical operations\n",
    "- **Matplotlib:** data visualisation \n",
    "\n",
    "\\\n",
    "More resources on useful packages: overview: https://learnpython.com/blog/most-popular-python-packages/; with links to where you can learn using the packages: https://www.kdnuggets.com/2021/03/top-10-python-libraries-2021.html"
   ]
  },
  {
   "cell_type": "markdown",
   "id": "1dc945e8",
   "metadata": {},
   "source": [
    "#### Load packages"
   ]
  },
  {
   "cell_type": "code",
   "execution_count": null,
   "id": "58bdadf1",
   "metadata": {},
   "outputs": [],
   "source": [
    "import numpy as np\n",
    "import matplotlib.pyplot as plt\n",
    "import pandas as pd"
   ]
  },
  {
   "cell_type": "markdown",
   "id": "effd0b10",
   "metadata": {},
   "source": [
    "#### 3.1 NumPy"
   ]
  },
  {
   "cell_type": "code",
   "execution_count": null,
   "id": "aaa8053d",
   "metadata": {},
   "outputs": [],
   "source": [
    "a = np.arange(15) #creazes an array from 0-14 (default step size: 1)\n",
    "a"
   ]
  },
  {
   "cell_type": "code",
   "execution_count": null,
   "id": "1baf809b",
   "metadata": {},
   "outputs": [],
   "source": [
    "a = np.reshape(a, (3, 5)) #change dimensions to 3x5\n",
    "a"
   ]
  },
  {
   "cell_type": "code",
   "execution_count": null,
   "id": "198d5300",
   "metadata": {},
   "outputs": [],
   "source": [
    "b = np.arange(15).reshape(3, 5)#can also do all in one\n",
    "b"
   ]
  },
  {
   "cell_type": "code",
   "execution_count": null,
   "id": "07f1dd74",
   "metadata": {},
   "outputs": [],
   "source": [
    "c = np.arange(0, 15, 0.5) #change step size; also requires to set start and end point\n",
    "c "
   ]
  },
  {
   "cell_type": "code",
   "execution_count": null,
   "id": "7172a83a",
   "metadata": {},
   "outputs": [],
   "source": [
    "d = np.linspace(0, 15, 10000) #creates an array using number of steps rather than step size\n",
    "d"
   ]
  },
  {
   "cell_type": "code",
   "execution_count": null,
   "id": "df68f822",
   "metadata": {},
   "outputs": [],
   "source": [
    "e = np.zeros(5)\n",
    "f = np.ones(5)\n",
    "g = np.empty_like(c) #creates array with specific dimensions that can be altered later\n",
    "print(e, f, g)"
   ]
  },
  {
   "cell_type": "markdown",
   "id": "e488dbac",
   "metadata": {},
   "source": [
    "#### 3.2 pandas"
   ]
  },
  {
   "cell_type": "markdown",
   "id": "ea371dd0",
   "metadata": {},
   "source": [
    "#### Create objects"
   ]
  },
  {
   "cell_type": "code",
   "execution_count": null,
   "id": "39632326",
   "metadata": {},
   "outputs": [],
   "source": [
    "series1 = pd.Series([1, 3, 5, np.nan, 6, 8])\n",
    "series1"
   ]
  },
  {
   "cell_type": "code",
   "execution_count": null,
   "id": "3ae0301d",
   "metadata": {},
   "outputs": [],
   "source": [
    "dates1 = pd.date_range(\"20210101\", periods=6)\n",
    "dates1"
   ]
  },
  {
   "cell_type": "code",
   "execution_count": null,
   "id": "6b173c9a",
   "metadata": {},
   "outputs": [],
   "source": [
    "df = pd.DataFrame(np.random.randn(6, 4), index=dates1, columns=list(\"ABCD\"))\n",
    "df"
   ]
  },
  {
   "cell_type": "code",
   "execution_count": null,
   "id": "c60d9e81",
   "metadata": {},
   "outputs": [],
   "source": [
    "dict1 = {\n",
    "        \"A\": 1.0,\n",
    "        \"B\": pd.Timestamp(\"20130102\"),\n",
    "        \"C\": pd.Series(1, index=list(range(4)), dtype=\"float32\"),\n",
    "        \"D\": np.array([3] * 4, dtype=\"int32\"),\n",
    "        \"E\": pd.Categorical([\"test\", \"train\", \"test\", \"train\"]),\n",
    "        \"F\": \"foo\",\n",
    "    }\n",
    "df2 = pd.DataFrame(dict1)\n",
    "df2"
   ]
  },
  {
   "cell_type": "code",
   "execution_count": null,
   "id": "9d5433db",
   "metadata": {},
   "outputs": [],
   "source": [
    "df2.sort_values(by=\"B\")"
   ]
  },
  {
   "cell_type": "code",
   "execution_count": null,
   "id": "44c12b95",
   "metadata": {},
   "outputs": [],
   "source": [
    "df2[\"B\"]"
   ]
  },
  {
   "cell_type": "code",
   "execution_count": null,
   "id": "1159d7f3",
   "metadata": {},
   "outputs": [],
   "source": [
    "df.loc[\"20210101\", \"B\"]"
   ]
  },
  {
   "cell_type": "code",
   "execution_count": null,
   "id": "e09e7527",
   "metadata": {},
   "outputs": [],
   "source": [
    "df.iloc[0, 1]"
   ]
  },
  {
   "cell_type": "markdown",
   "id": "3e16534e",
   "metadata": {},
   "source": [
    "#### Load files"
   ]
  },
  {
   "cell_type": "code",
   "execution_count": null,
   "id": "1de33ed0",
   "metadata": {},
   "outputs": [],
   "source": [
    "import os #os package: operating system interface (allows to create/modify/remove directories)\n",
    "os.getcwd()"
   ]
  },
  {
   "cell_type": "code",
   "execution_count": null,
   "id": "a897b85e",
   "metadata": {},
   "outputs": [],
   "source": [
    "os.chdir('C:/Users/sandr/Documents/python_intro')\n",
    "os.getcwd()"
   ]
  },
  {
   "cell_type": "code",
   "execution_count": null,
   "id": "b8f8f56f",
   "metadata": {
    "scrolled": true
   },
   "outputs": [],
   "source": [
    "titanic = pd.read_csv('./Titanic.csv') "
   ]
  },
  {
   "cell_type": "code",
   "execution_count": null,
   "id": "43f87a55",
   "metadata": {},
   "outputs": [],
   "source": [
    "titanic.head()"
   ]
  },
  {
   "cell_type": "code",
   "execution_count": null,
   "id": "94ace442",
   "metadata": {},
   "outputs": [],
   "source": [
    "titanic.tail()"
   ]
  },
  {
   "cell_type": "code",
   "execution_count": null,
   "id": "8e8152c1",
   "metadata": {},
   "outputs": [],
   "source": [
    "freq_class = pd.DataFrame(titanic[\"PClass\"].value_counts())\n",
    "print(freq_class)"
   ]
  },
  {
   "cell_type": "code",
   "execution_count": null,
   "id": "bd1655d0",
   "metadata": {},
   "outputs": [],
   "source": [
    "na_titanic = pd.DataFrame(titanic.isna().sum())\n",
    "print(na_titanic)"
   ]
  },
  {
   "cell_type": "code",
   "execution_count": null,
   "id": "00c67d77",
   "metadata": {},
   "outputs": [],
   "source": [
    "titanic_drop = titanic.dropna(axis = 1)\n",
    "na_titanic = pd.DataFrame(titanic_drop.isna().sum())\n",
    "print(na_titanic)"
   ]
  },
  {
   "cell_type": "code",
   "execution_count": null,
   "id": "22d176e8",
   "metadata": {},
   "outputs": [],
   "source": [
    "titanic = titanic.dropna(axis = 0)\n",
    "na_titanic = pd.DataFrame(titanic.isna().sum())\n",
    "print(na_titanic)"
   ]
  },
  {
   "cell_type": "code",
   "execution_count": null,
   "id": "f245342b",
   "metadata": {},
   "outputs": [],
   "source": [
    "titanic.hist(\"Age\")"
   ]
  },
  {
   "cell_type": "code",
   "execution_count": null,
   "id": "f209c125",
   "metadata": {},
   "outputs": [],
   "source": [
    "titanic = pd.DataFrame(titanic)"
   ]
  },
  {
   "cell_type": "markdown",
   "id": "29047d86",
   "metadata": {},
   "source": [
    "More material on pandas: https://pandas.pydata.org/docs/user_guide/dsintro.html"
   ]
  },
  {
   "cell_type": "markdown",
   "id": "dc21992c",
   "metadata": {},
   "source": [
    "#### 3.3 Matplotlib"
   ]
  },
  {
   "cell_type": "code",
   "execution_count": null,
   "id": "6ffb8734",
   "metadata": {},
   "outputs": [],
   "source": [
    "ts = pd.Series(np.random.randn(1000), index=pd.date_range(\"1/1/2000\", periods=1000))\n",
    "ts.head()"
   ]
  },
  {
   "cell_type": "code",
   "execution_count": null,
   "id": "a95e1ed2",
   "metadata": {},
   "outputs": [],
   "source": [
    "ts = ts.cumsum()\n",
    "ts.head()"
   ]
  },
  {
   "cell_type": "code",
   "execution_count": null,
   "id": "d289071e",
   "metadata": {},
   "outputs": [],
   "source": [
    "ts.plot(); #outside of notebook: use plt.show() at the end to see plot"
   ]
  },
  {
   "cell_type": "code",
   "execution_count": null,
   "id": "c70c2c3e",
   "metadata": {},
   "outputs": [],
   "source": [
    "df = pd.DataFrame(np.random.randn(1000, 4), index=ts.index, columns=[\"A\", \"B\", \"C\", \"D\"])\n",
    "df = df.cumsum()"
   ]
  },
  {
   "cell_type": "code",
   "execution_count": null,
   "id": "6a1b8db4",
   "metadata": {},
   "outputs": [],
   "source": [
    "plt.figure();\n",
    "df.plot();"
   ]
  },
  {
   "cell_type": "code",
   "execution_count": null,
   "id": "4ad18dfa",
   "metadata": {},
   "outputs": [],
   "source": [
    "ts1 = pd.Series(np.random.randn(1000), index=pd.date_range(\"1/1/2000\", periods=1000))\n",
    "ts2 = pd.Series(np.random.randn(1000), index=pd.date_range(\"1/1/2000\", periods=1000))"
   ]
  },
  {
   "cell_type": "code",
   "execution_count": null,
   "id": "e5c038f3",
   "metadata": {},
   "outputs": [],
   "source": [
    "fig = plt.figure(figsize = (12, 4))\n",
    "\n",
    "#plt.subplot(121)\n",
    "plt.plot(ts1)\n",
    "plt.plot(ts2)\n",
    "plt.xlabel('time (a.u.)')\n",
    "plt.ylabel('random value')\n",
    "plt.title(\"Time series\")\n",
    "plt.legend(('time series 1', 'time series2'), loc = 1)\n",
    "fig.savefig('myfirstplot.png', dpi = 100)"
   ]
  },
  {
   "cell_type": "code",
   "execution_count": null,
   "id": "7c85b269",
   "metadata": {},
   "outputs": [],
   "source": [
    "fig = plt.figure(figsize = (17, 4))\n",
    "\n",
    "plt.subplot(121)\n",
    "plt.plot(ts1)\n",
    "plt.xlabel('time (a.u.)')\n",
    "plt.ylabel('random value')\n",
    "plt.title('Time series 1')"
   ]
  },
  {
   "cell_type": "code",
   "execution_count": null,
   "id": "80239ccd",
   "metadata": {},
   "outputs": [],
   "source": [
    "fig = plt.figure(figsize = (17, 4))\n",
    "\n",
    "plt.subplot(121)\n",
    "plt.plot(ts1)\n",
    "plt.xlabel('time (a.u.)')\n",
    "plt.ylabel('random value')\n",
    "plt.title('Time series 1')\n",
    "\n",
    "plt.subplot(122)\n",
    "plt.plot(ts2)\n",
    "plt.xlabel('time (a.u.)')\n",
    "plt.ylabel('random value')\n",
    "plt.title('Time series 2')\n",
    "fig.savefig('mysecondplot.png', dpi = 100)"
   ]
  },
  {
   "cell_type": "code",
   "execution_count": null,
   "id": "9e558889",
   "metadata": {},
   "outputs": [],
   "source": [
    "plt.style.use(\"ggplot\")"
   ]
  },
  {
   "cell_type": "code",
   "execution_count": null,
   "id": "fdcc5b64",
   "metadata": {},
   "outputs": [],
   "source": [
    "fig = plt.figure(figsize = (17, 4))\n",
    "\n",
    "plt.subplot(121)\n",
    "plt.plot(ts1)\n",
    "plt.xlabel('time (a.u.)')\n",
    "plt.ylabel('random value')\n",
    "plt.title('Time series 1')\n",
    "\n",
    "plt.subplot(122)\n",
    "plt.plot(ts2)\n",
    "plt.xlabel('time (a.u.)')\n",
    "plt.ylabel('random value')\n",
    "plt.title('Time series 2')"
   ]
  },
  {
   "cell_type": "code",
   "execution_count": null,
   "id": "8f762f86",
   "metadata": {},
   "outputs": [],
   "source": [
    "# Age Histogram\n",
    "plt.hist(titanic.Age)\n",
    "plt.axvline(titanic.Age.mean(), color='k', linestyle='dashed', linewidth=1)\n",
    "plt.title('Ages of Passengers on Titanic')\n",
    "plt.ylabel('Count')\n",
    "plt.xlabel('Age (years)')"
   ]
  },
  {
   "cell_type": "code",
   "execution_count": null,
   "id": "c63c9a67",
   "metadata": {},
   "outputs": [],
   "source": [
    "print(round(titanic[['PClass','Survived']].groupby(['PClass']).mean()*100,1))"
   ]
  },
  {
   "cell_type": "code",
   "execution_count": null,
   "id": "dae378c0",
   "metadata": {},
   "outputs": [],
   "source": [
    "print(round(titanic[['Sex', 'PClass','Survived']].groupby(['PClass', 'Sex']).mean()*100,1))"
   ]
  },
  {
   "cell_type": "code",
   "execution_count": null,
   "id": "0e7fa29a",
   "metadata": {},
   "outputs": [],
   "source": [
    "import seaborn as sns"
   ]
  },
  {
   "cell_type": "code",
   "execution_count": null,
   "id": "b82d7a97",
   "metadata": {},
   "outputs": [],
   "source": [
    "sns.set(font_scale=1)\n",
    "fig = sns.catplot(x=\"Sex\", y=\"Survived\", col=\"PClass\", #catplot: former factorplot\n",
    "                    data=titanic, saturation=.5,\n",
    "                    kind=\"bar\", ci=None, aspect=.6)\n",
    "\n",
    "(fig.set_axis_labels(\"\", \"Survival Rate\")\n",
    "    .set_xticklabels([\"Female\", \"Male\"])\n",
    "    .set_titles(\"{col_name} {col_var}\")\n",
    "    .set(ylim=(0, 1))\n",
    "    .despine(left=True))  \n",
    "plt.subplots_adjust(top=0.8)\n",
    "fig.fig.suptitle('Survivors by Passenger Class');\n",
    "fig.savefig('survivors.png', dpi = 100)"
   ]
  },
  {
   "cell_type": "markdown",
   "id": "fed4ffa0",
   "metadata": {},
   "source": [
    "#### 3.4 Extra: Intro to scikit-learn (most important package for machine learning)"
   ]
  },
  {
   "cell_type": "code",
   "execution_count": null,
   "id": "17beeee9",
   "metadata": {},
   "outputs": [],
   "source": [
    "from sklearn.decomposition import PCA\n",
    "from sklearn import preprocessing"
   ]
  },
  {
   "cell_type": "code",
   "execution_count": null,
   "id": "945939f0",
   "metadata": {},
   "outputs": [],
   "source": [
    "titanic.shape"
   ]
  },
  {
   "cell_type": "code",
   "execution_count": null,
   "id": "3500c39a",
   "metadata": {},
   "outputs": [],
   "source": [
    "titanic #don't need names; also: sex and class are difficult to work with the way the are"
   ]
  },
  {
   "cell_type": "code",
   "execution_count": null,
   "id": "580a46d7",
   "metadata": {},
   "outputs": [],
   "source": [
    "titanic = titanic.drop(['Name'],axis=1)"
   ]
  },
  {
   "cell_type": "code",
   "execution_count": null,
   "id": "b0111c9a",
   "metadata": {},
   "outputs": [],
   "source": [
    "from sklearn.preprocessing import LabelEncoder"
   ]
  },
  {
   "cell_type": "code",
   "execution_count": null,
   "id": "43f61912",
   "metadata": {},
   "outputs": [],
   "source": [
    "for label in ['PClass','Sex']:\n",
    "    titanic[label] = LabelEncoder().fit_transform(titanic[label])\n",
    "titanic"
   ]
  },
  {
   "cell_type": "code",
   "execution_count": null,
   "id": "3544f9a7",
   "metadata": {},
   "outputs": [],
   "source": [
    "features = titanic.drop(['Survived'], axis=1)"
   ]
  },
  {
   "cell_type": "markdown",
   "id": "565bb8ba",
   "metadata": {},
   "source": [
    "Perform feature transformation in form of principle component analysis (usually need to normalize data first etc., only meant to briefly show what scikit-learn can do here)."
   ]
  },
  {
   "cell_type": "code",
   "execution_count": null,
   "id": "772019f5",
   "metadata": {},
   "outputs": [],
   "source": [
    "pca = PCA(n_components = 0.9)\n",
    "pca.fit(features)\n",
    "reduced_pca = pca.transform(features)\n",
    "reduced_pca.shape"
   ]
  },
  {
   "cell_type": "markdown",
   "id": "e84675cb",
   "metadata": {},
   "source": [
    "90% of the variance in the data was explained by 1 principle components."
   ]
  },
  {
   "cell_type": "markdown",
   "id": "99adca8e",
   "metadata": {},
   "source": [
    "#### Other useful packages: \n",
    "- scipy (statistics, optimization, linear algebra etc.);\n",
    "- seaborn (pretty plots);\n",
    "- sympy (integration, differentiation, symbolic mathematics)"
   ]
  }
 ],
 "metadata": {
  "kernelspec": {
   "display_name": "Python 3 (ipykernel)",
   "language": "python",
   "name": "python3"
  },
  "language_info": {
   "codemirror_mode": {
    "name": "ipython",
    "version": 3
   },
   "file_extension": ".py",
   "mimetype": "text/x-python",
   "name": "python",
   "nbconvert_exporter": "python",
   "pygments_lexer": "ipython3",
   "version": "3.9.12"
  }
 },
 "nbformat": 4,
 "nbformat_minor": 5
}
